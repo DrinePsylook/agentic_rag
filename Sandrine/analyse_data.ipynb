{
 "cells": [
  {
   "cell_type": "markdown",
   "id": "084d1ad7",
   "metadata": {},
   "source": [
    "# Analyse jeu de données AAPL"
   ]
  },
  {
   "cell_type": "code",
   "execution_count": 1,
   "id": "fe24ab53",
   "metadata": {},
   "outputs": [],
   "source": [
    "import pandas as pd\n",
    "import numpy as np"
   ]
  },
  {
   "cell_type": "code",
   "execution_count": 2,
   "id": "0c67237e",
   "metadata": {},
   "outputs": [],
   "source": [
    "file = (\"datas/AAPL.csv\")"
   ]
  },
  {
   "cell_type": "code",
   "execution_count": 3,
   "id": "407c87d3",
   "metadata": {},
   "outputs": [],
   "source": [
    "df = pd.read_csv(file, delimiter=\",\", encoding=\"utf-8\")"
   ]
  },
  {
   "cell_type": "code",
   "execution_count": 4,
   "id": "9ac77d92",
   "metadata": {},
   "outputs": [
    {
     "data": {
      "text/html": [
       "<div>\n",
       "<style scoped>\n",
       "    .dataframe tbody tr th:only-of-type {\n",
       "        vertical-align: middle;\n",
       "    }\n",
       "\n",
       "    .dataframe tbody tr th {\n",
       "        vertical-align: top;\n",
       "    }\n",
       "\n",
       "    .dataframe thead th {\n",
       "        text-align: right;\n",
       "    }\n",
       "</style>\n",
       "<table border=\"1\" class=\"dataframe\">\n",
       "  <thead>\n",
       "    <tr style=\"text-align: right;\">\n",
       "      <th></th>\n",
       "      <th>Date</th>\n",
       "      <th>Article_title</th>\n",
       "      <th>Stock_symbol</th>\n",
       "      <th>Url</th>\n",
       "      <th>Publisher</th>\n",
       "      <th>Author</th>\n",
       "      <th>Article</th>\n",
       "      <th>Lsa_summary</th>\n",
       "      <th>Luhn_summary</th>\n",
       "      <th>Textrank_summary</th>\n",
       "      <th>Lexrank_summary</th>\n",
       "    </tr>\n",
       "  </thead>\n",
       "  <tbody>\n",
       "    <tr>\n",
       "      <th>0</th>\n",
       "      <td>2023-12-16 22:00:00 UTC</td>\n",
       "      <td>My 6 Largest Portfolio Holdings Heading Into 2...</td>\n",
       "      <td>AAPL</td>\n",
       "      <td>https://www.nasdaq.com/articles/my-6-largest-p...</td>\n",
       "      <td>NaN</td>\n",
       "      <td>NaN</td>\n",
       "      <td>After an absolute disaster of a year in 2022, ...</td>\n",
       "      <td>3: Apple There's little question that Apple (N...</td>\n",
       "      <td>3: Apple There's little question that Apple (N...</td>\n",
       "      <td>3: Apple There's little question that Apple (N...</td>\n",
       "      <td>3: Apple There's little question that Apple (N...</td>\n",
       "    </tr>\n",
       "    <tr>\n",
       "      <th>1</th>\n",
       "      <td>2023-12-16 22:00:00 UTC</td>\n",
       "      <td>Brokers Suggest Investing in Apple (AAPL): Rea...</td>\n",
       "      <td>AAPL</td>\n",
       "      <td>https://www.nasdaq.com/articles/brokers-sugges...</td>\n",
       "      <td>NaN</td>\n",
       "      <td>NaN</td>\n",
       "      <td>When deciding whether to buy, sell, or hold a ...</td>\n",
       "      <td>Let's take a look at what these Wall Street he...</td>\n",
       "      <td>Click to get this free report Apple Inc. (AAPL...</td>\n",
       "      <td>Let's take a look at what these Wall Street he...</td>\n",
       "      <td>Brokerage Recommendation Trends for AAPL Let's...</td>\n",
       "    </tr>\n",
       "    <tr>\n",
       "      <th>2</th>\n",
       "      <td>2023-12-16 21:00:00 UTC</td>\n",
       "      <td>Company News for Dec 19, 2023</td>\n",
       "      <td>AAPL</td>\n",
       "      <td>https://www.nasdaq.com/articles/company-news-f...</td>\n",
       "      <td>NaN</td>\n",
       "      <td>NaN</td>\n",
       "      <td>Shares of Apple Inc. AAPL lost 0.9% on China’s...</td>\n",
       "      <td>Shares of Apple Inc. AAPL lost 0.9% on China’s...</td>\n",
       "      <td>Click to get this free report Apple Inc. (AAPL...</td>\n",
       "      <td>Click to get this free report Apple Inc. (AAPL...</td>\n",
       "      <td>Click to get this free report Apple Inc. (AAPL...</td>\n",
       "    </tr>\n",
       "    <tr>\n",
       "      <th>3</th>\n",
       "      <td>2023-12-16 21:00:00 UTC</td>\n",
       "      <td>NVIDIA (NVDA) Up 243% YTD: Will It Carry Momen...</td>\n",
       "      <td>AAPL</td>\n",
       "      <td>https://www.nasdaq.com/articles/nvidia-nvda-up...</td>\n",
       "      <td>NaN</td>\n",
       "      <td>NaN</td>\n",
       "      <td>NVIDIA Corporation NVDA has witnessed a remark...</td>\n",
       "      <td>Other Stocks in the $1T Club Apart from NVIDIA...</td>\n",
       "      <td>Other Stocks in the $1T Club Apart from NVIDIA...</td>\n",
       "      <td>Other Stocks in the $1T Club Apart from NVIDIA...</td>\n",
       "      <td>Other Stocks in the $1T Club Apart from NVIDIA...</td>\n",
       "    </tr>\n",
       "    <tr>\n",
       "      <th>4</th>\n",
       "      <td>2023-12-16 21:00:00 UTC</td>\n",
       "      <td>Pre-Market Most Active for Dec 19, 2023 : BMY,...</td>\n",
       "      <td>AAPL</td>\n",
       "      <td>https://www.nasdaq.com/articles/pre-market-mos...</td>\n",
       "      <td>NaN</td>\n",
       "      <td>NaN</td>\n",
       "      <td>The NASDAQ 100 Pre-Market Indicator is up 10.1...</td>\n",
       "      <td>Apple Inc. (AAPL) is +0.86 at $196.75, with 1,...</td>\n",
       "      <td>Apple Inc. (AAPL) is +0.86 at $196.75, with 1,...</td>\n",
       "      <td>Apple Inc. (AAPL) is +0.86 at $196.75, with 1,...</td>\n",
       "      <td>Apple Inc. (AAPL) is +0.86 at $196.75, with 1,...</td>\n",
       "    </tr>\n",
       "  </tbody>\n",
       "</table>\n",
       "</div>"
      ],
      "text/plain": [
       "                      Date                                      Article_title  \\\n",
       "0  2023-12-16 22:00:00 UTC  My 6 Largest Portfolio Holdings Heading Into 2...   \n",
       "1  2023-12-16 22:00:00 UTC  Brokers Suggest Investing in Apple (AAPL): Rea...   \n",
       "2  2023-12-16 21:00:00 UTC                      Company News for Dec 19, 2023   \n",
       "3  2023-12-16 21:00:00 UTC  NVIDIA (NVDA) Up 243% YTD: Will It Carry Momen...   \n",
       "4  2023-12-16 21:00:00 UTC  Pre-Market Most Active for Dec 19, 2023 : BMY,...   \n",
       "\n",
       "  Stock_symbol                                                Url Publisher  \\\n",
       "0         AAPL  https://www.nasdaq.com/articles/my-6-largest-p...       NaN   \n",
       "1         AAPL  https://www.nasdaq.com/articles/brokers-sugges...       NaN   \n",
       "2         AAPL  https://www.nasdaq.com/articles/company-news-f...       NaN   \n",
       "3         AAPL  https://www.nasdaq.com/articles/nvidia-nvda-up...       NaN   \n",
       "4         AAPL  https://www.nasdaq.com/articles/pre-market-mos...       NaN   \n",
       "\n",
       "   Author                                            Article  \\\n",
       "0     NaN  After an absolute disaster of a year in 2022, ...   \n",
       "1     NaN  When deciding whether to buy, sell, or hold a ...   \n",
       "2     NaN  Shares of Apple Inc. AAPL lost 0.9% on China’s...   \n",
       "3     NaN  NVIDIA Corporation NVDA has witnessed a remark...   \n",
       "4     NaN  The NASDAQ 100 Pre-Market Indicator is up 10.1...   \n",
       "\n",
       "                                         Lsa_summary  \\\n",
       "0  3: Apple There's little question that Apple (N...   \n",
       "1  Let's take a look at what these Wall Street he...   \n",
       "2  Shares of Apple Inc. AAPL lost 0.9% on China’s...   \n",
       "3  Other Stocks in the $1T Club Apart from NVIDIA...   \n",
       "4  Apple Inc. (AAPL) is +0.86 at $196.75, with 1,...   \n",
       "\n",
       "                                        Luhn_summary  \\\n",
       "0  3: Apple There's little question that Apple (N...   \n",
       "1  Click to get this free report Apple Inc. (AAPL...   \n",
       "2  Click to get this free report Apple Inc. (AAPL...   \n",
       "3  Other Stocks in the $1T Club Apart from NVIDIA...   \n",
       "4  Apple Inc. (AAPL) is +0.86 at $196.75, with 1,...   \n",
       "\n",
       "                                    Textrank_summary  \\\n",
       "0  3: Apple There's little question that Apple (N...   \n",
       "1  Let's take a look at what these Wall Street he...   \n",
       "2  Click to get this free report Apple Inc. (AAPL...   \n",
       "3  Other Stocks in the $1T Club Apart from NVIDIA...   \n",
       "4  Apple Inc. (AAPL) is +0.86 at $196.75, with 1,...   \n",
       "\n",
       "                                     Lexrank_summary  \n",
       "0  3: Apple There's little question that Apple (N...  \n",
       "1  Brokerage Recommendation Trends for AAPL Let's...  \n",
       "2  Click to get this free report Apple Inc. (AAPL...  \n",
       "3  Other Stocks in the $1T Club Apart from NVIDIA...  \n",
       "4  Apple Inc. (AAPL) is +0.86 at $196.75, with 1,...  "
      ]
     },
     "execution_count": 4,
     "metadata": {},
     "output_type": "execute_result"
    }
   ],
   "source": [
    "df.head()"
   ]
  },
  {
   "cell_type": "code",
   "execution_count": 5,
   "id": "76bbae6d",
   "metadata": {},
   "outputs": [
    {
     "data": {
      "text/plain": [
       "(9338, 11)"
      ]
     },
     "execution_count": 5,
     "metadata": {},
     "output_type": "execute_result"
    }
   ],
   "source": [
    "df.shape"
   ]
  },
  {
   "cell_type": "code",
   "execution_count": 6,
   "id": "29e27019",
   "metadata": {},
   "outputs": [
    {
     "data": {
      "text/plain": [
       "Index(['Date', 'Article_title', 'Stock_symbol', 'Url', 'Publisher', 'Author',\n",
       "       'Article', 'Lsa_summary', 'Luhn_summary', 'Textrank_summary',\n",
       "       'Lexrank_summary'],\n",
       "      dtype='object')"
      ]
     },
     "execution_count": 6,
     "metadata": {},
     "output_type": "execute_result"
    }
   ],
   "source": [
    "df.columns"
   ]
  },
  {
   "cell_type": "code",
   "execution_count": null,
   "id": "eb02f6b0",
   "metadata": {},
   "outputs": [],
   "source": []
  },
  {
   "cell_type": "code",
   "execution_count": 7,
   "id": "a20f9f6a",
   "metadata": {},
   "outputs": [
    {
     "name": "stdout",
     "output_type": "stream",
     "text": [
      "<class 'pandas.core.frame.DataFrame'>\n",
      "RangeIndex: 9338 entries, 0 to 9337\n",
      "Data columns (total 11 columns):\n",
      " #   Column            Non-Null Count  Dtype  \n",
      "---  ------            --------------  -----  \n",
      " 0   Date              9338 non-null   object \n",
      " 1   Article_title     9338 non-null   object \n",
      " 2   Stock_symbol      9338 non-null   object \n",
      " 3   Url               9338 non-null   object \n",
      " 4   Publisher         473 non-null    object \n",
      " 5   Author            0 non-null      float64\n",
      " 6   Article           8865 non-null   object \n",
      " 7   Lsa_summary       8865 non-null   object \n",
      " 8   Luhn_summary      8865 non-null   object \n",
      " 9   Textrank_summary  8865 non-null   object \n",
      " 10  Lexrank_summary   8865 non-null   object \n",
      "dtypes: float64(1), object(10)\n",
      "memory usage: 802.6+ KB\n"
     ]
    }
   ],
   "source": [
    "df.info()"
   ]
  },
  {
   "cell_type": "code",
   "execution_count": 8,
   "id": "03e74ca6",
   "metadata": {},
   "outputs": [
    {
     "data": {
      "text/plain": [
       "np.int64(473)"
      ]
     },
     "execution_count": 8,
     "metadata": {},
     "output_type": "execute_result"
    }
   ],
   "source": [
    "df['Article'].isna().sum()"
   ]
  },
  {
   "cell_type": "code",
   "execution_count": 9,
   "id": "1058647a",
   "metadata": {},
   "outputs": [],
   "source": [
    "df = df.dropna(subset=[\"Article\"])"
   ]
  },
  {
   "cell_type": "code",
   "execution_count": 10,
   "id": "1618c237",
   "metadata": {},
   "outputs": [],
   "source": [
    "short_df = df[[\"Date\", \"Article\"]].iloc[:10]"
   ]
  },
  {
   "cell_type": "code",
   "execution_count": 23,
   "id": "64abab55",
   "metadata": {},
   "outputs": [
    {
     "data": {
      "text/plain": [
       "3                                                                                                                                                                                                                                                                                                                                                                                                                                                                                                                                                                                                                                                                                                                                                                                                                                                                                                                                                                                                                                                                                                                                                                                                                                                                                                                                                                                                                                                                                                                                                                                                                                                                                                                                                                                                                                                                                                                                                                                                                                                                                                                                                                                                                                                                                                                                                                                                                                                                                                                                                                                                                                                                                                                                                                                                                                                                                                                                                                              NVIDIA Corporation NVDA has witnessed a remarkable run, showcasing a staggering 243% year-to-date surge in its stock price, pushing the company to the forefront of technology and innovation. NVIDIA also achieved a massive milestone in May 2023 by joining the exclusive club of companies with a $1 trillion market capitalization.\\nThe surge reflects investors' confidence in NVIDIA's strategic positioning, robust financial performance and pivotal role in shaping transformative technologies like artificial intelligence (AI), gaming and data center solutions.\\nHowever, the looming question remains — Can NVIDIA sustain this momentum through 2024?\\nNVIDIA Corporation Price and Consensus\\nNVIDIA Corporation price-consensus-chart | NVIDIA Corporation Quote\\nWill GenAI Investments Aid NVDA’s Surge?\\nNVIDIA’s robust stock price performance has been primarily driven by hopes that the company will be a prime beneficiary of growing investments in generative AI. Given generative AI’s inherited opportunities and the company’s leadership in the space, we believe the NVDA stock is poised to carry the momentum in 2024.\\nNVIDIA dominates the market for AI chips. The meteoric rise of OpenAI’s ChatGPT and its adoption among enterprises have already proven generative AI technology’s usefulness across multiple industries, including marketing, advertising, customer service, education, content creation, healthcare, automotive, energy & utilities and video game development.\\nThe growing demand to modernize the workflow across industries is expected to drive the demand for generative AI applications. The global generative AI market size is anticipated to reach $109.37 billion by 2030, according to a new report by Grand View Research. The market is expected to expand at a CAGR of 35.6% from 2023 to 2030.\\nHowever, generative AI requires vast knowledge to create content and needs huge computational power. As a result, enterprises looking to create generative AI-based applications will be required to upgrade their existing network infrastructure.\\nNVIDIA’s next-generation chips with high computing power can be the top choice for enterprises. The company’s GPUs are already being applied in AI models. This is expanding NVDA’s footprint in untapped markets like automotive, healthcare and manufacturing.\\nThe generative AI revolution is likely to create huge demand for its next-generation high computing powerful chips. Considering surging AI investments across the data center end market, NVDA expects its fourth-quarter fiscal 2024 revenues to reach $20 billion from $6.05 billion in the year-ago quarter.\\nAdditionally, NVIDIA currently carries a Zacks Rank #2 (Buy) and has a Growth Score of A. Our research shows that stocks with a Growth Score of A or B when combined with a Zacks Rank #1 (Strong Buy) or #2 offer the best investment opportunities for investors. Thus, the company appears to be a compelling investment proposition at the moment.\\nOther Stocks in the $1T Club\\nApart from NVIDIA, only four companies — Apple Inc. AAPL, Microsoft Corporation MSFT, Alphabet Inc. GOOGL and Amazon.com, Inc. AMZN — have a market cap of more than $1 trillion at present. AAPL has the highest market cap of $3.05 trillion, followed by MSFT’s $2.77 trillion, GOOGL’s $1.71 trillion and AMZN’s $1.59 trillion. At yesterday’s closing price of $500.77, NVDA has a market capitalization of $1.23 trillion, positioning it in the fifth spot.\\nShares of Apple, Microsoft, Alphabet and Amazon have rallied 50.7%, 55.4%, 53.9% and 83.2%, respectively, year to date. Currently, AMZN sports a Zacks Rank #1, while AAPL, MSFT and GOOGL each carry a Zacks Rank #3 (Hold). You can see the complete list of today’s Zacks #1 Rank stocks here.\\nZacks Reveals ChatGPT \"Sleeper\" Stock\\nOne little-known company is at the heart of an especially brilliant Artificial Intelligence sector. By 2030, the AI industry is predicted to have an internet and iPhone-scale economic impact of $15.7 Trillion.\\nAs a service to readers, Zacks is providing a bonus report that names and explains this explosive growth stock and 4 other \"must buys.\" Plus more.\\nDownload Free ChatGPT Stock Report Right Now >>\\nWant the latest recommendations from Zacks Investment Research? Today, you can download 7 Best Stocks for the Next 30 Days. Click to get this free report\\nAmazon.com, Inc. (AMZN) : Free Stock Analysis Report\\nApple Inc. (AAPL) : Free Stock Analysis Report\\nMicrosoft Corporation (MSFT) : Free Stock Analysis Report\\nNVIDIA Corporation (NVDA) : Free Stock Analysis Report\\nAlphabet Inc. (GOOGL) : Free Stock Analysis Report\\nTo read this article on Zacks.com click here.\\nZacks Investment Research\\nThe views and opinions expressed herein are the views and opinions of the author and do not necessarily reflect those of Nasdaq, Inc.\n",
       "5    What was the top financial story of 2023? It has to be Artificial Intelligence (AI), right?\\nNo other subject dominated the headlines quite like AI. Whether it was ChatGPT, viral AI-generated images, or the failed ouster of Sam Altman at OpenAI, it seems AI keeps pumping out big stories, one after the other.\\nSo, with 2024 right around the corner, here are three AI stocks worth owning in 2024 -- and beyond.\\nImage source: Getty Images.\\nAI analysis can help companies optimize their operations\\nJake Lerch (Palantir Technologies): With the stock up 178% year to date, 2023 has been an incredible year for Palantir Technologies (NYSE: PLTR) and its shareholders. There are, however, signs that 2024 (and beyond) could be even better.\\nPalantir operates AI-based analytics systems for governmental and commercial uses and is on the leading edge of translating AI innovation into shareholder returns. Consider Palantir's recent announcement that it is extending its long-standing partnership with UniCredit S.p.A., a major European bank.\\nIn its press release , Palantir noted that its signature Foundry operating system delivered material results for UniCredit. For example, in 2023, \"advanced analytics and propensity models in Foundry helped [UniCredit] generate a four-fold increase in customer redemption of protection products through better targeting.\"\\nIndeed, UniCredit is just one of many customers that is desperate to ramp up its use of AI to streamline its operations. In a Dec. 7, 2023 interview with Fox Business, Palantir co-founder and CEO Alex Karp said, \"We just can't keep up with our product demand...We are just breaking at the seams in the U.S.\"\\nThe numbers certainly back that statement up. In its most recent quarter (the three months ending on Sept. 30, 2023), Palantir grew revenue by 17% year over year. Trailing-12-month revenue hit $2.1 billion, gross profit swelled to $1.7 billion, and free cash flow increased to $474 million.\\nPLTR Revenue (TTM) data by YCharts\\nNevertheless, Palantir stock isn't for everyone. Since the company is still early in its lifecycle, its stock will be volatile. Indeed, shares plummeted more than 84% from their all-time high between January 2021 and January 2023.\\nStill, for long-term, growth-oriented investors, Palantir is a name worth considering, given the soaring demand for its products and its improving fundamentals.\\nAI isn't just about what you see; it's about what you say and hear\\nJustin Pope (SoundHound AI): Much of the hype around AI has focused on large language models like ChatGPT, but there are other ways to use AI that investors may not be fully aware of. SoundHound AI (NASDAQ: SOUN) develops conversational AI, taking an audio input, such as someone voicing a question and responding with dialogue or action.\\nConversational AI has a lot of existing and potential use cases. SoundHound AI is used in restaurant and hospitality industries to take orders or make reservations. It's in vehicles, smart devices, and appliances for voice assistance. In the future, the technology could find its way into healthcare, customer service, and more. SoundHound AI estimates a long-term potential addressable market of $160 billion.\\nAs a company, SoundHound AI is just getting started. It's only done $38 million in revenue over the past 12 months, but analysts believe it will grow significantly. Estimates call for 50% revenue growth over the next two years. The company also recently announced an acquisition of SYNQ3 Restaurant Solutions, giving SoundHound access to a potential restaurant pipeline of 100,000 locations.\\nSoundHound AI is a risky stock because the business is so nascent. It's burning cash every quarter, and there is only a year or so of cash on the balance sheet at this rate. Investors shouldn't be shocked if the company issues new stock to raise funds. Conversely, the stock's market cap is just $480 million. Investors could eventually be handsomely rewarded if SoundHound AI can become a leader in this massive (but underrated) niche within AI.\\nIt's way too early to count out this \"AI-first\" company\\nWill Healy (Alphabet): The narrative in the AI space seems to have turned away from Google parent Alphabet (NASDAQ: GOOGL) (NASDAQ: GOOG).\\nIndeed, the rise of OpenAI's ChatGPT seemed to catch Alphabet off guard, particularly as rival Microsoft (NASDAQ: MSFT) forged an alliance with the research and development company. This gave users a reason to start using Microsoft's search engine, Bing, and some began questioning the dominance of the Google search engine for the first time in several years.\\nHowever, Alphabet has responded with its own generative AI tool called Bard. While the tools offer similar results, Bard was first in producing more up-to-date results as it leverages Google's search engine.\\nMoreover, the company has a long history with AI. Alphabet first used AI to correct spelling as early as 2001. The tools advanced from that point, so much so that Alphabet declared itself an \"AI first\" company in 2016.\\nFurthermore, investors should remember that Alphabet owns numerous companies, some of which could drive AI innovation. Earlier this year, it combined two of its AI companies into Google DeepMind. This subsidiary is a group of scientists, engineers, and others researching AI.\\nAlso, with the funding backing Google DeepMind, the company has a high probability of driving innovation. Alphabet claims almost $120 billion in liquidity, and it generated nearly $32 billion in free cash flow in the first nine months of 2023. This gives the company tremendous resources to develop AI-related products and the ability to purchase the innovation it cannot create.\\nSuch optionality gives investors fewer reasons to doubt Alphabet, and one has to wonder whether the sentiment against the Google parent was overblown. Despite the concerns of some, the stock has risen by more than 40% over the last 12 months.\\nGOOGL PE Ratio data by YCharts\\nAdditionally, the increase has taken its P/E ratio to 26. While not inexpensive, its P/E is lower than those of Amazon (NASDAQ: AMZN), Apple (NASDAQ: AAPL), and Microsoft. That lower valuation could be an opportunity to buy this stock as it uses its AI knowledge base and vast resources to remain a force in the artificial intelligence industry.\\nShould you invest $1,000 in Alphabet right now?\\nBefore you buy stock in Alphabet, consider this:\\nThe Motley Fool Stock Advisor analyst team just identified what they believe are the 10 best stocks for investors to buy now... and Alphabet wasn't one of them. The 10 stocks that made the cut could produce monster returns in the coming years.\\nStock Advisor provides investors with an easy-to-follow blueprint for success, including guidance on building a portfolio, regular updates from analysts, and two new stock picks each month. The Stock Advisor service has more than tripled the return of S&P 500 since 2002*.\\nSee the 10 stocks\\n*Stock Advisor returns as of December 11, 2023\\nSuzanne Frey, an executive at Alphabet, is a member of The Motley Fool’s board of directors. John Mackey, former CEO of Whole Foods Market, an Amazon subsidiary, is a member of The Motley Fool’s board of directors. Jake Lerch has positions in Alphabet and Amazon. Justin Pope has no position in any of the stocks mentioned. Will Healy has positions in Palantir Technologies. The Motley Fool has positions in and recommends Alphabet, Amazon, Apple, Microsoft, and Palantir Technologies. The Motley Fool has a disclosure policy.\\nThe views and opinions expressed herein are the views and opinions of the author and do not necessarily reflect those of Nasdaq, Inc.\n",
       "Name: article, dtype: object"
      ]
     },
     "execution_count": 23,
     "metadata": {},
     "output_type": "execute_result"
    }
   ],
   "source": [
    "pd.set_option('display.max_colwidth', None)\n",
    "short_df[\"article\"].iloc[[3, 5]]"
   ]
  },
  {
   "cell_type": "code",
   "execution_count": 11,
   "id": "08aba2e0",
   "metadata": {},
   "outputs": [],
   "source": [
    "short_df.columns = short_df.columns.str.lower()"
   ]
  },
  {
   "cell_type": "code",
   "execution_count": 12,
   "id": "9fec7d40",
   "metadata": {},
   "outputs": [
    {
     "name": "stdout",
     "output_type": "stream",
     "text": [
      "Index(['date', 'article'], dtype='object')\n"
     ]
    }
   ],
   "source": [
    "print(short_df.columns)"
   ]
  },
  {
   "cell_type": "code",
   "execution_count": 13,
   "id": "50944a7a",
   "metadata": {},
   "outputs": [],
   "source": [
    "short_df.to_csv(\"datas/short_APPL.csv\")"
   ]
  },
  {
   "cell_type": "code",
   "execution_count": null,
   "id": "5f14c1ea",
   "metadata": {},
   "outputs": [],
   "source": []
  },
  {
   "cell_type": "code",
   "execution_count": null,
   "id": "ac365213",
   "metadata": {},
   "outputs": [],
   "source": []
  }
 ],
 "metadata": {
  "kernelspec": {
   "display_name": ".venv",
   "language": "python",
   "name": "python3"
  },
  "language_info": {
   "codemirror_mode": {
    "name": "ipython",
    "version": 3
   },
   "file_extension": ".py",
   "mimetype": "text/x-python",
   "name": "python",
   "nbconvert_exporter": "python",
   "pygments_lexer": "ipython3",
   "version": "3.12.3"
  }
 },
 "nbformat": 4,
 "nbformat_minor": 5
}
